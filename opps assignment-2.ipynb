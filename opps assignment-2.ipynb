{
 "cells": [
  {
   "cell_type": "markdown",
   "id": "ca84d3ac-6d45-4d6c-b099-07d9869df4e6",
   "metadata": {},
   "source": [
    "## Answer No.1\n",
    "Abstraction is a fundamental concept in Object-Oriented Programming (OOPs) that allows us to represent the essential features of an object or entity while hiding the unnecessary details. It focuses on defining the structure and behavior of an object in a simplified and generalized manner so that the complexities are hidden from the user."
   ]
  },
  {
   "cell_type": "code",
   "execution_count": 1,
   "id": "232a6c3e-6cd1-4fab-8ed2-64db96e6b252",
   "metadata": {},
   "outputs": [],
   "source": [
    "import abc\n",
    "class students:\n",
    "    @abc.abstractmethod\n",
    "    def student_name(self):\n",
    "        pass \n",
    "    @abc.abstractmethod\n",
    "    def student_rollno(self):\n",
    "        pass\n",
    "    @abc.abstractmethod\n",
    "    def student_class(self):\n",
    "        pass  "
   ]
  },
  {
   "cell_type": "code",
   "execution_count": 6,
   "id": "6d8d215e-181b-47f1-a386-d007d544663b",
   "metadata": {},
   "outputs": [],
   "source": [
    "class student_details(students):\n",
    "    \n",
    "    def student_name(self):\n",
    "        return \"shashank\"\n",
    "    def student_rollno(self):\n",
    "        return \"123550\""
   ]
  },
  {
   "cell_type": "code",
   "execution_count": 7,
   "id": "cda4bc19-0eaa-4bdf-bf08-fe2093a84276",
   "metadata": {},
   "outputs": [],
   "source": [
    "class personal_details(students):\n",
    "    def student_name(self):\n",
    "        return \"this will writen a name of student\"\n",
    "    def student_rollno(self):\n",
    "        return \"this will writen the Rollno of student\"\n",
    "    "
   ]
  },
  {
   "cell_type": "code",
   "execution_count": 9,
   "id": "d441d542-c708-4e24-b917-b252009b5e50",
   "metadata": {},
   "outputs": [
    {
     "data": {
      "text/plain": [
       "'shashank'"
      ]
     },
     "execution_count": 9,
     "metadata": {},
     "output_type": "execute_result"
    }
   ],
   "source": [
    "sd = student_details()\n",
    "sd.student_name()"
   ]
  },
  {
   "cell_type": "code",
   "execution_count": 11,
   "id": "f3efb118-8982-4f98-bbaa-9b624013859f",
   "metadata": {},
   "outputs": [
    {
     "data": {
      "text/plain": [
       "'this will writen the Rollno of student'"
      ]
     },
     "execution_count": 11,
     "metadata": {},
     "output_type": "execute_result"
    }
   ],
   "source": [
    "pd = personal_details()\n",
    "pd.student_rollno()"
   ]
  },
  {
   "cell_type": "markdown",
   "id": "99053731-8ce4-41c1-abb6-0182c82d99d9",
   "metadata": {},
   "source": [
    "## Answer No.2\n",
    "Abstraction:\n",
    "Abstraction is the process of simplifying complex real-world entities into their essential characteristics, focusing on the relevant features while hiding unnecessary details. It allows programmers to create a model of an object or system with only the necessary attributes and behaviors to represent its functionality, without exposing the internal workings.\n",
    "\n",
    "Encapsulation:\n",
    "Encapsulation is the practice of bundling data (attributes) and the methods (behaviors) that operate on that data within a single unit, typically a class. It allows data to be accessed and modified only through the defined methods, providing data hiding and protecting the internal state of the object from unauthorized access."
   ]
  },
  {
   "cell_type": "markdown",
   "id": "8da5a2be-749a-410f-a493-78506bc5d3f7",
   "metadata": {},
   "source": [
    "Example of Abstraction is shown in Answer no.1 please have a look in answer no.1 "
   ]
  },
  {
   "cell_type": "markdown",
   "id": "bb1ac432-1d9e-4d4f-88ce-23b21c4432a4",
   "metadata": {},
   "source": [
    "## Example of Encapsulation"
   ]
  },
  {
   "cell_type": "code",
   "execution_count": 13,
   "id": "ad4eb6fe-e5af-478f-bf38-c14e9244918e",
   "metadata": {},
   "outputs": [],
   "source": [
    "class student :\n",
    "    \n",
    "    def __init__(self , name , age):\n",
    "        self.__name = name\n",
    "        self.__age = age         "
   ]
  },
  {
   "cell_type": "code",
   "execution_count": 17,
   "id": "b121e621-b9e7-4a89-b4ea-3c819ed090a3",
   "metadata": {},
   "outputs": [],
   "source": [
    "st = student(\"shashank\" , 17)"
   ]
  },
  {
   "cell_type": "code",
   "execution_count": 19,
   "id": "87343a50-2843-4518-9c7f-e53e30599d17",
   "metadata": {},
   "outputs": [
    {
     "data": {
      "text/plain": [
       "'shashank'"
      ]
     },
     "execution_count": 19,
     "metadata": {},
     "output_type": "execute_result"
    }
   ],
   "source": [
    "st._student__name"
   ]
  },
  {
   "cell_type": "code",
   "execution_count": 20,
   "id": "856c7702-dd9b-44f1-9f3e-091d9ea632c2",
   "metadata": {},
   "outputs": [
    {
     "data": {
      "text/plain": [
       "17"
      ]
     },
     "execution_count": 20,
     "metadata": {},
     "output_type": "execute_result"
    }
   ],
   "source": [
    "st._student__age"
   ]
  },
  {
   "cell_type": "markdown",
   "id": "9f3eb7ed-49c3-4d53-9d45-09975701df27",
   "metadata": {},
   "source": [
    "## Answer No.3\n",
    "The abc module provides the ABC class and the abstractmethod decorator. To create an abstract base class, we can typically define a class that inherits from ABC and use the @abstractmethod decorator on the methods that should be implemented by the subclasses.\n",
    "\n",
    "It is use because the primary purpose of the abc module is to facilitate the creation of abstract classes and interfaces, enforcing a certain structure and method implementation in derived classes. This helps in achieving a level of consistency in the design of complex systems and encourages adherence to predefined interfaces."
   ]
  },
  {
   "cell_type": "markdown",
   "id": "7dc4e293-6368-4537-9885-f6bc2b7a24a8",
   "metadata": {},
   "source": [
    "## Answer No.4\n",
    "Define an Abstract Class: Create an abstract class that serves as a blueprint for the data structure or object you want to abstract. In Python, you can use the abc module to create abstract classes, as explained in the previous answer.\n",
    "\n",
    "Define Abstract Methods: Inside the abstract class, define abstract methods using the @abstractmethod decorator. These abstract methods should represent the essential operations or behaviors that the data structure or object must support.\n",
    "\n",
    "Implement Concrete Subclasses: Create concrete subclasses that inherit from the abstract class. These subclasses should implement all the abstract methods defined in the abstract class. Each concrete subclass will provide its own implementation details for the abstract methods.\n",
    "\n",
    "Create Objects: Instantiate objects using the concrete subclasses. This is how you create instances of the abstracted data structure or object. Users of your code will interact with these objects without needing to know the internal details."
   ]
  },
  {
   "cell_type": "markdown",
   "id": "fd5755aa-a55a-4523-a81c-24e66e7edae7",
   "metadata": {},
   "source": [
    "## Answer No.5\n",
    "No, we cannot create an instance of an abstract class directly in Python. An abstract class is a class that contains one or more abstract methods, which are methods declared but not implemented in the abstract class. Abstract methods are meant to be implemented in concrete subclasses"
   ]
  }
 ],
 "metadata": {
  "kernelspec": {
   "display_name": "Python 3 (ipykernel)",
   "language": "python",
   "name": "python3"
  },
  "language_info": {
   "codemirror_mode": {
    "name": "ipython",
    "version": 3
   },
   "file_extension": ".py",
   "mimetype": "text/x-python",
   "name": "python",
   "nbconvert_exporter": "python",
   "pygments_lexer": "ipython3",
   "version": "3.10.8"
  }
 },
 "nbformat": 4,
 "nbformat_minor": 5
}
